{
 "cells": [
  {
   "cell_type": "markdown",
   "metadata": {},
   "source": [
    "Run: `pip install -r requirements.txt` to install the required libraries"
   ]
  },
  {
   "cell_type": "markdown",
   "metadata": {},
   "source": [
    "`pyreadr` packge to help read .Rda files"
   ]
  },
  {
   "cell_type": "code",
   "execution_count": null,
   "metadata": {},
   "outputs": [],
   "source": [
    "import pyreadr"
   ]
  },
  {
   "cell_type": "markdown",
   "metadata": {},
   "source": [
    "`rpy2` package to execute R functions in python -> unsucessful. This needs both R and Python installed, and I do not want to install R. For the datasets in the `spls` package, you could make use of this package, or just run Rstudio, load the datasets there and export them to .csv files."
   ]
  },
  {
   "cell_type": "markdown",
   "metadata": {},
   "source": [
    "### PRIM dataset \n",
    "\n",
    "gathered from the website: \n",
    "\n",
    "https://rdrr.io/cran/PRIMsrc/man/Real.2-data.html\n",
    "\n",
    "mRNA, miRNA and clinical variables to study the molecular characteristics of lung cancer cells. \n",
    "\n",
    "123 * 946 size"
   ]
  },
  {
   "cell_type": "code",
   "execution_count": 3,
   "metadata": {},
   "outputs": [],
   "source": [
    "PRIM_data =  pyreadr.read_r('datasets/Real.2.rda')"
   ]
  },
  {
   "cell_type": "code",
   "execution_count": 6,
   "metadata": {},
   "outputs": [
    {
     "name": "stdout",
     "output_type": "stream",
     "text": [
      "odict_keys(['Real.2'])\n"
     ]
    }
   ],
   "source": [
    "print(PRIM_data.keys()) "
   ]
  },
  {
   "cell_type": "code",
   "execution_count": 8,
   "metadata": {},
   "outputs": [
    {
     "data": {
      "text/html": [
       "<div>\n",
       "<style scoped>\n",
       "    .dataframe tbody tr th:only-of-type {\n",
       "        vertical-align: middle;\n",
       "    }\n",
       "\n",
       "    .dataframe tbody tr th {\n",
       "        vertical-align: top;\n",
       "    }\n",
       "\n",
       "    .dataframe thead th {\n",
       "        text-align: right;\n",
       "    }\n",
       "</style>\n",
       "<table border=\"1\" class=\"dataframe\">\n",
       "  <thead>\n",
       "    <tr style=\"text-align: right;\">\n",
       "      <th></th>\n",
       "      <th>y</th>\n",
       "      <th>delta</th>\n",
       "      <th>Age</th>\n",
       "      <th>Type</th>\n",
       "      <th>KRAS.status</th>\n",
       "      <th>EGFR.status</th>\n",
       "      <th>P53.status</th>\n",
       "      <th>hsa.miR.555</th>\n",
       "      <th>hsa.miR.223.</th>\n",
       "      <th>hsa.miR.346</th>\n",
       "      <th>...</th>\n",
       "      <th>hsa.miR.320d</th>\n",
       "      <th>ebv.miR.BART13</th>\n",
       "      <th>hsa.miR.562</th>\n",
       "      <th>hsa.miR.486.3p</th>\n",
       "      <th>hsa.miR.184</th>\n",
       "      <th>hsa.miR.214</th>\n",
       "      <th>hsa.miR.590.3p</th>\n",
       "      <th>hsa.miR.671.5p</th>\n",
       "      <th>hsa.miR.127.3p</th>\n",
       "      <th>ebv.miR.BART6.3p</th>\n",
       "    </tr>\n",
       "    <tr>\n",
       "      <th>rownames</th>\n",
       "      <th></th>\n",
       "      <th></th>\n",
       "      <th></th>\n",
       "      <th></th>\n",
       "      <th></th>\n",
       "      <th></th>\n",
       "      <th></th>\n",
       "      <th></th>\n",
       "      <th></th>\n",
       "      <th></th>\n",
       "      <th></th>\n",
       "      <th></th>\n",
       "      <th></th>\n",
       "      <th></th>\n",
       "      <th></th>\n",
       "      <th></th>\n",
       "      <th></th>\n",
       "      <th></th>\n",
       "      <th></th>\n",
       "      <th></th>\n",
       "      <th></th>\n",
       "    </tr>\n",
       "  </thead>\n",
       "  <tbody>\n",
       "    <tr>\n",
       "      <th>AGG600716</th>\n",
       "      <td>1.9</td>\n",
       "      <td>1</td>\n",
       "      <td>45.26</td>\n",
       "      <td>1</td>\n",
       "      <td>1</td>\n",
       "      <td>0</td>\n",
       "      <td>1</td>\n",
       "      <td>1.258403</td>\n",
       "      <td>-2.107231</td>\n",
       "      <td>2.201386</td>\n",
       "      <td>...</td>\n",
       "      <td>9.486216</td>\n",
       "      <td>8.483150</td>\n",
       "      <td>1.549601</td>\n",
       "      <td>-2.489153</td>\n",
       "      <td>3.489111</td>\n",
       "      <td>8.790909</td>\n",
       "      <td>0.964420</td>\n",
       "      <td>6.435507</td>\n",
       "      <td>8.092005</td>\n",
       "      <td>0.555592</td>\n",
       "    </tr>\n",
       "    <tr>\n",
       "      <th>ANO420520</th>\n",
       "      <td>4.3</td>\n",
       "      <td>0</td>\n",
       "      <td>63.81</td>\n",
       "      <td>1</td>\n",
       "      <td>1</td>\n",
       "      <td>0</td>\n",
       "      <td>1</td>\n",
       "      <td>1.427363</td>\n",
       "      <td>-2.540758</td>\n",
       "      <td>2.784025</td>\n",
       "      <td>...</td>\n",
       "      <td>10.846289</td>\n",
       "      <td>8.617958</td>\n",
       "      <td>-0.218795</td>\n",
       "      <td>-1.023582</td>\n",
       "      <td>3.426729</td>\n",
       "      <td>11.101470</td>\n",
       "      <td>0.832330</td>\n",
       "      <td>7.323581</td>\n",
       "      <td>8.675192</td>\n",
       "      <td>-1.187546</td>\n",
       "    </tr>\n",
       "    <tr>\n",
       "      <th>ARC270517</th>\n",
       "      <td>5.1</td>\n",
       "      <td>0</td>\n",
       "      <td>78.44</td>\n",
       "      <td>3</td>\n",
       "      <td>0</td>\n",
       "      <td>0</td>\n",
       "      <td>1</td>\n",
       "      <td>0.422615</td>\n",
       "      <td>2.444766</td>\n",
       "      <td>2.633147</td>\n",
       "      <td>...</td>\n",
       "      <td>9.685072</td>\n",
       "      <td>9.975355</td>\n",
       "      <td>-0.196234</td>\n",
       "      <td>-0.755116</td>\n",
       "      <td>4.127585</td>\n",
       "      <td>9.290808</td>\n",
       "      <td>-1.149080</td>\n",
       "      <td>7.588815</td>\n",
       "      <td>7.864244</td>\n",
       "      <td>-1.106565</td>\n",
       "    </tr>\n",
       "    <tr>\n",
       "      <th>AVI260916</th>\n",
       "      <td>7.7</td>\n",
       "      <td>0</td>\n",
       "      <td>76.39</td>\n",
       "      <td>1</td>\n",
       "      <td>0</td>\n",
       "      <td>0</td>\n",
       "      <td>0</td>\n",
       "      <td>0.703600</td>\n",
       "      <td>-2.315074</td>\n",
       "      <td>2.158156</td>\n",
       "      <td>...</td>\n",
       "      <td>10.816104</td>\n",
       "      <td>9.134508</td>\n",
       "      <td>0.940189</td>\n",
       "      <td>-0.668845</td>\n",
       "      <td>4.241370</td>\n",
       "      <td>10.363584</td>\n",
       "      <td>0.370006</td>\n",
       "      <td>7.414035</td>\n",
       "      <td>8.586668</td>\n",
       "      <td>-1.608089</td>\n",
       "    </tr>\n",
       "    <tr>\n",
       "      <th>AZE450213</th>\n",
       "      <td>3.5</td>\n",
       "      <td>1</td>\n",
       "      <td>59.84</td>\n",
       "      <td>1</td>\n",
       "      <td>0</td>\n",
       "      <td>0</td>\n",
       "      <td>0</td>\n",
       "      <td>1.535154</td>\n",
       "      <td>-2.888803</td>\n",
       "      <td>2.233118</td>\n",
       "      <td>...</td>\n",
       "      <td>9.733772</td>\n",
       "      <td>9.299710</td>\n",
       "      <td>1.206737</td>\n",
       "      <td>-0.908456</td>\n",
       "      <td>3.850926</td>\n",
       "      <td>10.912283</td>\n",
       "      <td>0.972962</td>\n",
       "      <td>7.215852</td>\n",
       "      <td>7.008386</td>\n",
       "      <td>0.348046</td>\n",
       "    </tr>\n",
       "  </tbody>\n",
       "</table>\n",
       "<p>5 rows × 946 columns</p>\n",
       "</div>"
      ],
      "text/plain": [
       "             y  delta    Age  Type  KRAS.status  EGFR.status  P53.status  \\\n",
       "rownames                                                                   \n",
       "AGG600716  1.9      1  45.26     1            1            0           1   \n",
       "ANO420520  4.3      0  63.81     1            1            0           1   \n",
       "ARC270517  5.1      0  78.44     3            0            0           1   \n",
       "AVI260916  7.7      0  76.39     1            0            0           0   \n",
       "AZE450213  3.5      1  59.84     1            0            0           0   \n",
       "\n",
       "           hsa.miR.555  hsa.miR.223.  hsa.miR.346  ...  hsa.miR.320d  \\\n",
       "rownames                                           ...                 \n",
       "AGG600716     1.258403     -2.107231     2.201386  ...      9.486216   \n",
       "ANO420520     1.427363     -2.540758     2.784025  ...     10.846289   \n",
       "ARC270517     0.422615      2.444766     2.633147  ...      9.685072   \n",
       "AVI260916     0.703600     -2.315074     2.158156  ...     10.816104   \n",
       "AZE450213     1.535154     -2.888803     2.233118  ...      9.733772   \n",
       "\n",
       "           ebv.miR.BART13  hsa.miR.562  hsa.miR.486.3p  hsa.miR.184  \\\n",
       "rownames                                                              \n",
       "AGG600716        8.483150     1.549601       -2.489153     3.489111   \n",
       "ANO420520        8.617958    -0.218795       -1.023582     3.426729   \n",
       "ARC270517        9.975355    -0.196234       -0.755116     4.127585   \n",
       "AVI260916        9.134508     0.940189       -0.668845     4.241370   \n",
       "AZE450213        9.299710     1.206737       -0.908456     3.850926   \n",
       "\n",
       "           hsa.miR.214  hsa.miR.590.3p  hsa.miR.671.5p  hsa.miR.127.3p  \\\n",
       "rownames                                                                 \n",
       "AGG600716     8.790909        0.964420        6.435507        8.092005   \n",
       "ANO420520    11.101470        0.832330        7.323581        8.675192   \n",
       "ARC270517     9.290808       -1.149080        7.588815        7.864244   \n",
       "AVI260916    10.363584        0.370006        7.414035        8.586668   \n",
       "AZE450213    10.912283        0.972962        7.215852        7.008386   \n",
       "\n",
       "           ebv.miR.BART6.3p  \n",
       "rownames                     \n",
       "AGG600716          0.555592  \n",
       "ANO420520         -1.187546  \n",
       "ARC270517         -1.106565  \n",
       "AVI260916         -1.608089  \n",
       "AZE450213          0.348046  \n",
       "\n",
       "[5 rows x 946 columns]"
      ]
     },
     "execution_count": 8,
     "metadata": {},
     "output_type": "execute_result"
    }
   ],
   "source": [
    "PRIM_data[\"Real.2\"].head()"
   ]
  },
  {
   "cell_type": "code",
   "execution_count": 22,
   "metadata": {},
   "outputs": [
    {
     "name": "stdout",
     "output_type": "stream",
     "text": [
      "3.5.16\n"
     ]
    }
   ],
   "source": [
    "import rpy2\n",
    "print(rpy2.__version__)\n"
   ]
  },
  {
   "cell_type": "markdown",
   "metadata": {},
   "source": [
    "### Prostate data \n",
    "\n",
    "#### _This does not work - please get the `spls` package in R and then export the datasets to csv._\n",
    "\n",
    "from the `spls` package in R.\n",
    "\n",
    "Although it is unable to import (probably because it is saved as a R list or something like that), it has a pretty good dimension: 102 * 6033. Also has an outcome class (normal vs. tumor). \n",
    "\n",
    "sPLS paper (Chung and Keles) that already did some analysis on this: https://pages.stat.wisc.edu/~keles/Papers/C_SPLS.pdf\n",
    "\n",
    "There are other datasets in the `spls` package. Such as: `lymphona` (62 * 4026), `mice` (60 * 145), `yeast` (542 * 106)"
   ]
  },
  {
   "cell_type": "markdown",
   "metadata": {},
   "source": [
    "The below is the failed attempt at getting the Rdata here"
   ]
  },
  {
   "cell_type": "code",
   "execution_count": 9,
   "metadata": {},
   "outputs": [],
   "source": [
    "prostate_data =  pyreadr.read_r('datasets/prostate.Rdata')"
   ]
  },
  {
   "cell_type": "code",
   "execution_count": 12,
   "metadata": {},
   "outputs": [
    {
     "name": "stdout",
     "output_type": "stream",
     "text": [
      "odict_keys([])\n"
     ]
    }
   ],
   "source": [
    "print(prostate_data.keys())"
   ]
  },
  {
   "cell_type": "code",
   "execution_count": 15,
   "metadata": {},
   "outputs": [
    {
     "ename": "KeyError",
     "evalue": "''",
     "output_type": "error",
     "traceback": [
      "\u001b[0;31m---------------------------------------------------------------------------\u001b[0m",
      "\u001b[0;31mKeyError\u001b[0m                                  Traceback (most recent call last)",
      "Cell \u001b[0;32mIn[15], line 1\u001b[0m\n\u001b[0;32m----> 1\u001b[0m \u001b[43mprostate_data\u001b[49m\u001b[43m[\u001b[49m\u001b[38;5;124;43m\"\u001b[39;49m\u001b[38;5;124;43m\"\u001b[39;49m\u001b[43m]\u001b[49m\n",
      "\u001b[0;31mKeyError\u001b[0m: ''"
     ]
    }
   ],
   "source": [
    "prostate_data[\"\"]"
   ]
  },
  {
   "cell_type": "markdown",
   "metadata": {},
   "source": [
    "### DOROTHEA data. \n",
    "\n",
    "This is to study sensitivity to a drug (which receptor reacts to the drug).\n",
    "\n",
    "It's a binary dataset. 800 * 100k. \n",
    "\n",
    "50k features are actual features, while the other 50k are noise features, because this dataset was designed to study variable selection.\n",
    "\n",
    "DOROTHEA data is part of the NIPS 2003 feature selection challenge. It also contains ARCENE data. I am not completely sure, but it seems like these datasets are combinations of publicly available dataset, so this may mean that this is rather artificial. \n",
    "\n",
    "Also, for the challenge, many random noise features were added. But I cannot find information online on which features are actually important - I think this can be interesting to study, though."
   ]
  },
  {
   "cell_type": "markdown",
   "metadata": {},
   "source": [
    "I got the below function from here :https://github.com/Tuyki/TT_RNN/blob/master/Experiment_NIPS2003.py"
   ]
  },
  {
   "cell_type": "code",
   "execution_count": 35,
   "metadata": {},
   "outputs": [],
   "source": [
    "\n",
    "def get_dorothea_data(filename, mode='online'):\n",
    "    \"\"\"\n",
    "    A function that reads in the original dorothea data in sparse form of feature:value\n",
    "    and transform them into matrix form.\n",
    "    # Arguments:\n",
    "    filename: the url to either the dorothea_train.data or dorothea_valid.data\n",
    "    mode: either 'text' for unpacked file; 'gz' for .gz file; or 'online' to download from the UCI repo\n",
    "    # Return:\n",
    "    the dexter data in matrix form.\n",
    "    \"\"\"\n",
    "    if mode == 'txt':\n",
    "        with open(filename) as f:\n",
    "            readin_list = f.readlines()\n",
    "    elif mode == 'gz':\n",
    "        with gzip.open(filename) as f:\n",
    "            readin_list = f.readlines()\n",
    "\n",
    "    def to_dense_dorothea(string_array):\n",
    "        n = len(string_array)\n",
    "        inds = np.zeros(n, dtype='int32')\n",
    "        ret = np.zeros(100001, dtype='int32')\n",
    "        for i in range(n):\n",
    "            this_split = string_array[i].split(' ')\n",
    "            inds[i] = int(this_split[0])\n",
    "        ret[inds] = 1\n",
    "        return ret\n",
    "\n",
    "    N = len(readin_list)\n",
    "    dat = [None]*N\n",
    "\n",
    "    for i in range(N):\n",
    "        dat[i] = to_dense_dorothea(readin_list[i].split(' ')[1:-1])[None, :]\n",
    "\n",
    "    dat = np.concatenate(dat, axis=0).astype('float32')\n",
    "    return dat[:, 1::]  # the first column all zero\n"
   ]
  },
  {
   "cell_type": "code",
   "execution_count": 36,
   "metadata": {},
   "outputs": [],
   "source": [
    "import numpy as np"
   ]
  },
  {
   "cell_type": "code",
   "execution_count": 37,
   "metadata": {},
   "outputs": [],
   "source": [
    "X_train = get_dorothea_data(\"datasets/DOROTHEA/dorothea_train.data\", mode='txt')\n"
   ]
  },
  {
   "cell_type": "code",
   "execution_count": 38,
   "metadata": {},
   "outputs": [
    {
     "data": {
      "text/plain": [
       "(800, 100000)"
      ]
     },
     "execution_count": 38,
     "metadata": {},
     "output_type": "execute_result"
    }
   ],
   "source": [
    "X_train.shape"
   ]
  },
  {
   "cell_type": "code",
   "execution_count": 41,
   "metadata": {},
   "outputs": [
    {
     "data": {
      "text/plain": [
       "array([[0., 0., 0., ..., 1., 0., 0.],\n",
       "       [0., 0., 0., ..., 0., 0., 0.],\n",
       "       [0., 0., 0., ..., 0., 0., 0.],\n",
       "       [0., 0., 0., ..., 0., 0., 0.],\n",
       "       [0., 0., 0., ..., 0., 0., 1.]], dtype=float32)"
      ]
     },
     "execution_count": 41,
     "metadata": {},
     "output_type": "execute_result"
    }
   ],
   "source": [
    "# show first five rows of X_train\n",
    "X_train[:5, :]"
   ]
  },
  {
   "cell_type": "code",
   "execution_count": 42,
   "metadata": {},
   "outputs": [
    {
     "data": {
      "text/plain": [
       "array([0., 1.], dtype=float32)"
      ]
     },
     "execution_count": 42,
     "metadata": {},
     "output_type": "execute_result"
    }
   ],
   "source": [
    "# show the unique values of X_train\n",
    "np.unique(X_train)"
   ]
  },
  {
   "cell_type": "code",
   "execution_count": 43,
   "metadata": {},
   "outputs": [],
   "source": [
    "Y_train = np.loadtxt(\"datasets/DOROTHEA/dorothea_train.labels\")"
   ]
  },
  {
   "cell_type": "code",
   "execution_count": 45,
   "metadata": {},
   "outputs": [
    {
     "data": {
      "text/plain": [
       "array([-1.,  1.])"
      ]
     },
     "execution_count": 45,
     "metadata": {},
     "output_type": "execute_result"
    }
   ],
   "source": [
    "np.unique(Y_train)"
   ]
  },
  {
   "cell_type": "markdown",
   "metadata": {},
   "source": [
    "### ARCENE dataset\n",
    "\n",
    "ARCENE was obtained by merging three mass-spectrometry datasets to obtain enough training and test data for a benchmark. The original features indicate the abundance of proteins in human sera having a given mass value. Based on those features one must separate cancer patients from healthy patients. We added a number of distractor feature called 'probes' having no predictive power."
   ]
  },
  {
   "cell_type": "code",
   "execution_count": 46,
   "metadata": {},
   "outputs": [],
   "source": [
    "arcene_X = np.loadtxt(\"datasets/ARCENE/arcene_train.data\")"
   ]
  },
  {
   "cell_type": "code",
   "execution_count": 49,
   "metadata": {},
   "outputs": [
    {
     "data": {
      "text/plain": [
       "array([[  0.,  71.,   0., ...,   0.,   0., 524.],\n",
       "       [  0.,  41.,  82., ...,   0., 284., 423.],\n",
       "       [  0.,   0.,   1., ...,   0.,  34., 508.],\n",
       "       [  0.,  56.,  44., ...,   0.,   0., 469.],\n",
       "       [105.,   0., 141., ...,   0.,   0., 354.]])"
      ]
     },
     "execution_count": 49,
     "metadata": {},
     "output_type": "execute_result"
    }
   ],
   "source": [
    "arcene_X[:5,:]"
   ]
  },
  {
   "cell_type": "code",
   "execution_count": 50,
   "metadata": {},
   "outputs": [
    {
     "data": {
      "text/plain": [
       "(100, 10000)"
      ]
     },
     "execution_count": 50,
     "metadata": {},
     "output_type": "execute_result"
    }
   ],
   "source": [
    "arcene_X.shape"
   ]
  },
  {
   "cell_type": "markdown",
   "metadata": {},
   "source": [
    "### Toxicity data \n",
    "\n",
    "(https://archive.ics.uci.edu/dataset/728/toxicity-2)\n",
    "\n",
    "Each row is a molecule, and each column is a measurement (molecular descriptor). Only 13 features are important - i guess in determining whether the molecule is toxic or not. And this list of important features is available. "
   ]
  },
  {
   "cell_type": "code",
   "execution_count": 51,
   "metadata": {},
   "outputs": [
    {
     "name": "stdout",
     "output_type": "stream",
     "text": [
      "     MATS3v  nHBint10  MATS3s  MATS3p  nHBDon_Lipinski  minHBint8  MATS3e  \\\n",
      "0    0.0908         0  0.0075  0.0173                0     0.0000 -0.0436   \n",
      "1    0.0213         0  0.1144 -0.0410                0     0.0000  0.1231   \n",
      "2    0.0018         0 -0.0156 -0.0765                2     0.0000 -0.1138   \n",
      "3   -0.0251         0 -0.0064 -0.0894                3     0.0000 -0.0747   \n",
      "4    0.0135         0  0.0424 -0.0353                0     0.0000 -0.0638   \n",
      "..      ...       ...     ...     ...              ...        ...     ...   \n",
      "166 -0.0960         0 -0.0478 -0.0840                2     0.0000 -0.0739   \n",
      "167 -0.0064         1 -0.1222  0.0013                1     0.0000 -0.1873   \n",
      "168  0.0096         2 -0.1846  0.0058                1     0.0000 -0.1293   \n",
      "169 -0.0736         2 -0.1267 -0.0345                2     0.5346 -0.0361   \n",
      "170 -0.1864         0 -0.0020 -0.1968                1     8.1414 -0.0529   \n",
      "\n",
      "     MATS3c  minHBint2  MATS3m  ...   WTPT-4   WTPT-5  ETA_EtaP_L  ETA_EtaP_F  \\\n",
      "0    0.0409     0.0000  0.1368  ...   0.0000   0.0000      0.1780      1.5488   \n",
      "1   -0.0316     0.0000  0.1318  ...   8.8660  19.3525      0.1739      1.3718   \n",
      "2   -0.1791     0.0000  0.0615  ...   5.2267  27.8796      0.1688      1.4395   \n",
      "3   -0.1151     0.0000  0.0361  ...   7.7896  24.7336      0.1702      1.4654   \n",
      "4    0.0307     0.0000  0.0306  ...  12.3240  19.7486      0.1789      1.4495   \n",
      "..      ...        ...     ...  ...      ...      ...         ...         ...   \n",
      "166 -0.2315     1.5660 -0.1133  ...   2.5690  12.0174      0.1648      0.9710   \n",
      "167 -0.2181     5.5404 -0.0757  ...  10.7860   6.4871      0.1805      1.2298   \n",
      "168 -0.0979     5.3976  0.0409  ...   4.9930  19.2864      0.2089      1.1245   \n",
      "169  0.0151     5.5190 -0.1025  ...  10.7504  19.4989      0.1944      1.2256   \n",
      "170 -0.0059     0.0000 -0.0930  ...   2.5356   3.0598      0.1945      0.9254   \n",
      "\n",
      "     ETA_EtaP_B  nT5Ring  SHdNH  ETA_dEpsilon_C  MDEO-22     Class  \n",
      "0        0.0088        0    0.0         -0.0868     0.00  NonToxic  \n",
      "1        0.0048        2    0.0         -0.0810     0.25  NonToxic  \n",
      "2        0.0116        2    0.0         -0.1004     0.00  NonToxic  \n",
      "3        0.0133        2    0.0         -0.1010     0.00  NonToxic  \n",
      "4        0.0120        2    0.0         -0.1071     0.00  NonToxic  \n",
      "..          ...      ...    ...             ...      ...       ...  \n",
      "166      0.0049        1    0.0         -0.0952     0.00  NonToxic  \n",
      "167      0.0127        1    0.0         -0.0860     0.00  NonToxic  \n",
      "168      0.0093        1    0.0         -0.0927     0.00  NonToxic  \n",
      "169      0.0167        1    0.0         -0.1129     0.00     Toxic  \n",
      "170      0.0336        0    0.0         -0.1915     0.00     Toxic  \n",
      "\n",
      "[171 rows x 1204 columns]\n"
     ]
    }
   ],
   "source": [
    "import pandas as pd\n",
    "\n",
    "# Read the CSV file into a DataFrame\n",
    "data = pd.read_csv('datasets/toxicity-2/data.csv')\n",
    "\n",
    "# Print the DataFrame\n",
    "print(data)"
   ]
  },
  {
   "cell_type": "code",
   "execution_count": 52,
   "metadata": {},
   "outputs": [
    {
     "data": {
      "text/plain": [
       "(171, 1204)"
      ]
     },
     "execution_count": 52,
     "metadata": {},
     "output_type": "execute_result"
    }
   ],
   "source": [
    "data.shape"
   ]
  },
  {
   "cell_type": "markdown",
   "metadata": {},
   "source": [
    "### PANCAN dataset \n",
    "\n",
    "(obtained via https://archive.ics.uci.edu/dataset/401/gene+expression+cancer+rna+seq)\n",
    "\n",
    "This collection of data is part of the RNA-Seq (HiSeq) PANCAN data set, it is a random extraction of gene expressions of patients having different types of tumor: BRCA, KIRC, COAD, LUAD and PRAD.\n",
    "\n",
    "\n"
   ]
  },
  {
   "cell_type": "code",
   "execution_count": 56,
   "metadata": {},
   "outputs": [],
   "source": [
    "# Read the CSV file into a DataFrame\n",
    "pancan_data = pd.read_csv('datasets/TCGA-PANCAN-HiSeq-801x20531/data.csv')\n"
   ]
  },
  {
   "cell_type": "code",
   "execution_count": 54,
   "metadata": {},
   "outputs": [
    {
     "data": {
      "text/plain": [
       "(801, 20532)"
      ]
     },
     "execution_count": 54,
     "metadata": {},
     "output_type": "execute_result"
    }
   ],
   "source": [
    "pancan_data.shape"
   ]
  },
  {
   "cell_type": "code",
   "execution_count": 55,
   "metadata": {},
   "outputs": [
    {
     "data": {
      "text/html": [
       "<div>\n",
       "<style scoped>\n",
       "    .dataframe tbody tr th:only-of-type {\n",
       "        vertical-align: middle;\n",
       "    }\n",
       "\n",
       "    .dataframe tbody tr th {\n",
       "        vertical-align: top;\n",
       "    }\n",
       "\n",
       "    .dataframe thead th {\n",
       "        text-align: right;\n",
       "    }\n",
       "</style>\n",
       "<table border=\"1\" class=\"dataframe\">\n",
       "  <thead>\n",
       "    <tr style=\"text-align: right;\">\n",
       "      <th></th>\n",
       "      <th>Unnamed: 0</th>\n",
       "      <th>gene_0</th>\n",
       "      <th>gene_1</th>\n",
       "      <th>gene_2</th>\n",
       "      <th>gene_3</th>\n",
       "      <th>gene_4</th>\n",
       "      <th>gene_5</th>\n",
       "      <th>gene_6</th>\n",
       "      <th>gene_7</th>\n",
       "      <th>gene_8</th>\n",
       "      <th>...</th>\n",
       "      <th>gene_20521</th>\n",
       "      <th>gene_20522</th>\n",
       "      <th>gene_20523</th>\n",
       "      <th>gene_20524</th>\n",
       "      <th>gene_20525</th>\n",
       "      <th>gene_20526</th>\n",
       "      <th>gene_20527</th>\n",
       "      <th>gene_20528</th>\n",
       "      <th>gene_20529</th>\n",
       "      <th>gene_20530</th>\n",
       "    </tr>\n",
       "  </thead>\n",
       "  <tbody>\n",
       "    <tr>\n",
       "      <th>0</th>\n",
       "      <td>sample_0</td>\n",
       "      <td>0.0</td>\n",
       "      <td>2.017209</td>\n",
       "      <td>3.265527</td>\n",
       "      <td>5.478487</td>\n",
       "      <td>10.431999</td>\n",
       "      <td>0.0</td>\n",
       "      <td>7.175175</td>\n",
       "      <td>0.591871</td>\n",
       "      <td>0.0</td>\n",
       "      <td>...</td>\n",
       "      <td>4.926711</td>\n",
       "      <td>8.210257</td>\n",
       "      <td>9.723516</td>\n",
       "      <td>7.220030</td>\n",
       "      <td>9.119813</td>\n",
       "      <td>12.003135</td>\n",
       "      <td>9.650743</td>\n",
       "      <td>8.921326</td>\n",
       "      <td>5.286759</td>\n",
       "      <td>0.0</td>\n",
       "    </tr>\n",
       "    <tr>\n",
       "      <th>1</th>\n",
       "      <td>sample_1</td>\n",
       "      <td>0.0</td>\n",
       "      <td>0.592732</td>\n",
       "      <td>1.588421</td>\n",
       "      <td>7.586157</td>\n",
       "      <td>9.623011</td>\n",
       "      <td>0.0</td>\n",
       "      <td>6.816049</td>\n",
       "      <td>0.000000</td>\n",
       "      <td>0.0</td>\n",
       "      <td>...</td>\n",
       "      <td>4.593372</td>\n",
       "      <td>7.323865</td>\n",
       "      <td>9.740931</td>\n",
       "      <td>6.256586</td>\n",
       "      <td>8.381612</td>\n",
       "      <td>12.674552</td>\n",
       "      <td>10.517059</td>\n",
       "      <td>9.397854</td>\n",
       "      <td>2.094168</td>\n",
       "      <td>0.0</td>\n",
       "    </tr>\n",
       "    <tr>\n",
       "      <th>2</th>\n",
       "      <td>sample_2</td>\n",
       "      <td>0.0</td>\n",
       "      <td>3.511759</td>\n",
       "      <td>4.327199</td>\n",
       "      <td>6.881787</td>\n",
       "      <td>9.870730</td>\n",
       "      <td>0.0</td>\n",
       "      <td>6.972130</td>\n",
       "      <td>0.452595</td>\n",
       "      <td>0.0</td>\n",
       "      <td>...</td>\n",
       "      <td>5.125213</td>\n",
       "      <td>8.127123</td>\n",
       "      <td>10.908640</td>\n",
       "      <td>5.401607</td>\n",
       "      <td>9.911597</td>\n",
       "      <td>9.045255</td>\n",
       "      <td>9.788359</td>\n",
       "      <td>10.090470</td>\n",
       "      <td>1.683023</td>\n",
       "      <td>0.0</td>\n",
       "    </tr>\n",
       "    <tr>\n",
       "      <th>3</th>\n",
       "      <td>sample_3</td>\n",
       "      <td>0.0</td>\n",
       "      <td>3.663618</td>\n",
       "      <td>4.507649</td>\n",
       "      <td>6.659068</td>\n",
       "      <td>10.196184</td>\n",
       "      <td>0.0</td>\n",
       "      <td>7.843375</td>\n",
       "      <td>0.434882</td>\n",
       "      <td>0.0</td>\n",
       "      <td>...</td>\n",
       "      <td>6.076566</td>\n",
       "      <td>8.792959</td>\n",
       "      <td>10.141520</td>\n",
       "      <td>8.942805</td>\n",
       "      <td>9.601208</td>\n",
       "      <td>11.392682</td>\n",
       "      <td>9.694814</td>\n",
       "      <td>9.684365</td>\n",
       "      <td>3.292001</td>\n",
       "      <td>0.0</td>\n",
       "    </tr>\n",
       "    <tr>\n",
       "      <th>4</th>\n",
       "      <td>sample_4</td>\n",
       "      <td>0.0</td>\n",
       "      <td>2.655741</td>\n",
       "      <td>2.821547</td>\n",
       "      <td>6.539454</td>\n",
       "      <td>9.738265</td>\n",
       "      <td>0.0</td>\n",
       "      <td>6.566967</td>\n",
       "      <td>0.360982</td>\n",
       "      <td>0.0</td>\n",
       "      <td>...</td>\n",
       "      <td>5.996032</td>\n",
       "      <td>8.891425</td>\n",
       "      <td>10.373790</td>\n",
       "      <td>7.181162</td>\n",
       "      <td>9.846910</td>\n",
       "      <td>11.922439</td>\n",
       "      <td>9.217749</td>\n",
       "      <td>9.461191</td>\n",
       "      <td>5.110372</td>\n",
       "      <td>0.0</td>\n",
       "    </tr>\n",
       "  </tbody>\n",
       "</table>\n",
       "<p>5 rows × 20532 columns</p>\n",
       "</div>"
      ],
      "text/plain": [
       "  Unnamed: 0  gene_0    gene_1    gene_2    gene_3     gene_4  gene_5  \\\n",
       "0   sample_0     0.0  2.017209  3.265527  5.478487  10.431999     0.0   \n",
       "1   sample_1     0.0  0.592732  1.588421  7.586157   9.623011     0.0   \n",
       "2   sample_2     0.0  3.511759  4.327199  6.881787   9.870730     0.0   \n",
       "3   sample_3     0.0  3.663618  4.507649  6.659068  10.196184     0.0   \n",
       "4   sample_4     0.0  2.655741  2.821547  6.539454   9.738265     0.0   \n",
       "\n",
       "     gene_6    gene_7  gene_8  ...  gene_20521  gene_20522  gene_20523  \\\n",
       "0  7.175175  0.591871     0.0  ...    4.926711    8.210257    9.723516   \n",
       "1  6.816049  0.000000     0.0  ...    4.593372    7.323865    9.740931   \n",
       "2  6.972130  0.452595     0.0  ...    5.125213    8.127123   10.908640   \n",
       "3  7.843375  0.434882     0.0  ...    6.076566    8.792959   10.141520   \n",
       "4  6.566967  0.360982     0.0  ...    5.996032    8.891425   10.373790   \n",
       "\n",
       "   gene_20524  gene_20525  gene_20526  gene_20527  gene_20528  gene_20529  \\\n",
       "0    7.220030    9.119813   12.003135    9.650743    8.921326    5.286759   \n",
       "1    6.256586    8.381612   12.674552   10.517059    9.397854    2.094168   \n",
       "2    5.401607    9.911597    9.045255    9.788359   10.090470    1.683023   \n",
       "3    8.942805    9.601208   11.392682    9.694814    9.684365    3.292001   \n",
       "4    7.181162    9.846910   11.922439    9.217749    9.461191    5.110372   \n",
       "\n",
       "   gene_20530  \n",
       "0         0.0  \n",
       "1         0.0  \n",
       "2         0.0  \n",
       "3         0.0  \n",
       "4         0.0  \n",
       "\n",
       "[5 rows x 20532 columns]"
      ]
     },
     "execution_count": 55,
     "metadata": {},
     "output_type": "execute_result"
    }
   ],
   "source": [
    "pancan_data.head()"
   ]
  },
  {
   "cell_type": "code",
   "execution_count": 58,
   "metadata": {},
   "outputs": [
    {
     "data": {
      "text/plain": [
       "Index(['Unnamed: 0', 'gene_0', 'gene_1', 'gene_2', 'gene_3', 'gene_4',\n",
       "       'gene_5', 'gene_6', 'gene_7', 'gene_8',\n",
       "       ...\n",
       "       'gene_20521', 'gene_20522', 'gene_20523', 'gene_20524', 'gene_20525',\n",
       "       'gene_20526', 'gene_20527', 'gene_20528', 'gene_20529', 'gene_20530'],\n",
       "      dtype='object', length=20532)"
      ]
     },
     "execution_count": 58,
     "metadata": {},
     "output_type": "execute_result"
    }
   ],
   "source": [
    "# get the name of columns of pancan_data\n",
    "pancan_data.columns"
   ]
  },
  {
   "cell_type": "markdown",
   "metadata": {},
   "source": [
    "### SECOM data \n",
    "\n",
    "for semiconductor manufacturing (https://archive.ics.uci.edu/dataset/179/secom)\n",
    "\n",
    "This dataset is about semiconductor manucatruing process. Engineers monitor different signals to make sure that the manufacturing takes place without failures. But some of these signals are irrelevant, while others are more important. The features are the signals here.\n",
    "\n"
   ]
  },
  {
   "cell_type": "code",
   "execution_count": 62,
   "metadata": {},
   "outputs": [],
   "source": [
    "secom_data = np.loadtxt(\"datasets/secom/secom.data\")"
   ]
  },
  {
   "cell_type": "code",
   "execution_count": 63,
   "metadata": {},
   "outputs": [
    {
     "data": {
      "text/plain": [
       "(1567, 590)"
      ]
     },
     "execution_count": 63,
     "metadata": {},
     "output_type": "execute_result"
    }
   ],
   "source": [
    "secom_data.shape"
   ]
  },
  {
   "cell_type": "code",
   "execution_count": 64,
   "metadata": {},
   "outputs": [
    {
     "data": {
      "text/plain": [
       "array([[3.0309300e+03, 2.5640000e+03, 2.1877333e+03, ...,           nan,\n",
       "                  nan,           nan],\n",
       "       [3.0957800e+03, 2.4651400e+03, 2.2304222e+03, ..., 2.0100000e-02,\n",
       "        6.0000000e-03, 2.0820450e+02],\n",
       "       [2.9326100e+03, 2.5599400e+03, 2.1864111e+03, ..., 4.8400000e-02,\n",
       "        1.4800000e-02, 8.2860200e+01],\n",
       "       [2.9887200e+03, 2.4799000e+03, 2.1990333e+03, ..., 1.4900000e-02,\n",
       "        4.4000000e-03, 7.3843200e+01],\n",
       "       [3.0322400e+03, 2.5028700e+03, 2.2333667e+03, ..., 1.4900000e-02,\n",
       "        4.4000000e-03, 7.3843200e+01]])"
      ]
     },
     "execution_count": 64,
     "metadata": {},
     "output_type": "execute_result"
    }
   ],
   "source": [
    "secom_data[:5,:]"
   ]
  },
  {
   "cell_type": "code",
   "execution_count": 66,
   "metadata": {},
   "outputs": [
    {
     "data": {
      "text/plain": [
       "213026"
      ]
     },
     "execution_count": 66,
     "metadata": {},
     "output_type": "execute_result"
    }
   ],
   "source": [
    "len(np.unique(secom_data))"
   ]
  },
  {
   "cell_type": "code",
   "execution_count": 67,
   "metadata": {},
   "outputs": [],
   "source": [
    "# count the number of missing values in each column\n",
    "missing_values = np.isnan(secom_data).sum(axis=0)"
   ]
  },
  {
   "cell_type": "code",
   "execution_count": 68,
   "metadata": {},
   "outputs": [
    {
     "data": {
      "text/plain": [
       "array([   6,    7,   14,   14,   14,   14,   14,    9,    2,    2,    2,\n",
       "          2,    2,    3,    3,    3,    3,    3,    3,   10,    0,    2,\n",
       "          2,    2,    2,    2,    2,    2,    2,    2,    2,    2,    1,\n",
       "          1,    1,    1,    1,    1,    1,    1,   24,   24,    1,    1,\n",
       "          1,    1,    1,    1,    1,    1,    1,    1,    1,    4,    4,\n",
       "          4,    4,    4,    4,    7,    6,    6,    6,    7,    7,    7,\n",
       "          6,    6,    6,    6,    6,    6,  794,  794,    6,   24,   24,\n",
       "         24,   24,   24,   24,   24,   24,    1,   12, 1341,    0,    0,\n",
       "          0,   51,   51,    6,    2,    2,    6,    6,    6,    6,    6,\n",
       "          6,    6,    6,    6,    2,    2,    6,    6,    6,    6, 1018,\n",
       "       1018, 1018,  715,    0,    0,    0,    0,    0,   24,    0,    0,\n",
       "          9,    9,    9,    9,    9,    9,    9,    9,    9,    9,    9,\n",
       "          8,    8,    8,    5,    6,    7,   14,   14,   14,   14,   14,\n",
       "          9,    2,    2,    2,    2,    2,    3,    3,    3,    3,    3,\n",
       "          3,   10,    0, 1429, 1429,    2,    2,    2,    2,    2,    2,\n",
       "          2,    2,    2,    2,    2,    1,    1,    1,    1,    1,    1,\n",
       "          1,    1,   24,    1,    1,    1,    1,    1,    1,    1,    1,\n",
       "          1,    1,    1,    4,    4,    4,    4,    4,    4,    7,    6,\n",
       "          6,    6,    7,    7,    7,    6,    6,    6,    6,    6,    6,\n",
       "          6,   24,   24,   24,   24,   24,   24,   24,   24,    1,   12,\n",
       "       1341,    0,    0,    0,   51,   51,    6,    2,    2,    6,    6,\n",
       "          6,    6,    6,    6,    6,    6,    6,    2,    2,    6,    6,\n",
       "          6,    6, 1018, 1018, 1018,  715,    0,    0,    0,    0,    0,\n",
       "         24,    0,    0,    9,    9,    9,    9,    9,    9,    9,    9,\n",
       "          9,    9,    9,    8,    8,    8,    5,    6,    7,   14,   14,\n",
       "         14,   14,   14,    9,    2,    2,    2,    2,    2,    3,    3,\n",
       "          3,    3,    3,    3,   10,    0, 1429, 1429,    2,    2,    2,\n",
       "          2,    2,    2,    2,    2,    2,    2,    2,    1,    1,    1,\n",
       "          1,    1,    1,    1,    1,   24,   24,    1,    1,    1,    1,\n",
       "          1,    1,    1,    1,    1,    1,    1,    4,    4,    4,    4,\n",
       "          4,    4,    7,    6,    6,    6,    7,    7,    7,    6,    6,\n",
       "          6,    6,    6,    6,  794,  794,    6,   24,   24,   24,   24,\n",
       "         24,   24,   24,   24,    1,   12, 1341,    0,    0,    0,   51,\n",
       "         51,    6,    2,    2,    6,    6,    6,    6,    6,    6,    6,\n",
       "          6,    6,    2,    2,    6,    6,    6,    6, 1018, 1018, 1018,\n",
       "        715,    0,    0,    0,    0,    0,   24,    0,    0,    9,    9,\n",
       "          9,    9,    9,    9,    9,    9,    9,    9,    9,    8,    8,\n",
       "          8,    5,    6,    7,   14,   14,   14,   14,   14,    9,    2,\n",
       "          2,    2,    2,    2,    3,    3,    3,    3,    3,    3,   10,\n",
       "          0,    2,    2,    2,    2,    2,    2,    2,    2,    2,    2,\n",
       "          2,    1,    1,    1,    1,    1,    1,    1,    1,   24,   24,\n",
       "          1,    1,    1,    1,    1,    1,    1,    1,    1,    1,    1,\n",
       "          4,    4,    4,    4,    4,    4,    7,    6,    6,    6,    7,\n",
       "          7,    7,    6,    6,    6,    6,    6,    6,    6,   24,   24,\n",
       "         24,   24,   24,   24,   24,   24,    1,   12, 1341,    0,    0,\n",
       "          0,   51,   51,    6,    2,    2,    6,    6,    6,    6,    6,\n",
       "          6,    6,    6,    6,    2,    2,    6,    6,    6,    6, 1018,\n",
       "       1018, 1018,  715,    0,    0,    0,    0,    0,   24,    0,    0,\n",
       "          9,    9,    9,    9,    9,    9,    9,    9,    9,    9,    9,\n",
       "          8,    8,    8,    2,    2,    2,    2,  260,  260,  260,  260,\n",
       "        260,  260,  260,  260,  260,  260,  260,  260,    1,    1,    1,\n",
       "          1,  273,  273,  273,  273,  273,  273,  273,  273,    0,    0,\n",
       "          0,    0,    0,    0,    0,    0,  949,  949,  949,  949,    1,\n",
       "          1,    1,    1,    1,    1,    1,    1])"
      ]
     },
     "execution_count": 68,
     "metadata": {},
     "output_type": "execute_result"
    }
   ],
   "source": [
    "missing_values"
   ]
  }
 ],
 "metadata": {
  "kernelspec": {
   "display_name": "plus1venv",
   "language": "python",
   "name": "python3"
  },
  "language_info": {
   "codemirror_mode": {
    "name": "ipython",
    "version": 3
   },
   "file_extension": ".py",
   "mimetype": "text/x-python",
   "name": "python",
   "nbconvert_exporter": "python",
   "pygments_lexer": "ipython3",
   "version": "3.11.2"
  }
 },
 "nbformat": 4,
 "nbformat_minor": 2
}
